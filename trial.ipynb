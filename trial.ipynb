{
 "cells": [
  {
   "cell_type": "code",
   "execution_count": 1,
   "metadata": {},
   "outputs": [],
   "source": [
    "#Importando as bibliotecas\n",
    "import duckdb\n",
    "import pandas as pd\n",
    "import numpy as np\n",
    "import seaborn as sns\n",
    "import matplotlib.pyplot as plt\n",
    "import plotly.express as px\n",
    "from sqlalchemy import create engine\n"
   ]
  },
  {
   "cell_type": "markdown",
   "metadata": {},
   "source": [
    "Carregando datasets"
   ]
  },
  {
   "cell_type": "code",
   "execution_count": 10,
   "metadata": {},
   "outputs": [],
   "source": [
    "#Carregando dataset de usuários e t\n",
    "customers = duckdb.read_csv('data/archive/customers.csv')  #Usuários\n",
    "transactions = duckdb.read_csv('data/archive/transactions.csv') #Transações"
   ]
  },
  {
   "cell_type": "code",
   "execution_count": 12,
   "metadata": {},
   "outputs": [
    {
     "data": {
      "text/plain": [
       "┌──────────────────────────────────────┬────────────────┬─────────┐\n",
       "│              idCustomer              │ PointsCustomer │ flEmail │\n",
       "│               varchar                │     int64      │  int64  │\n",
       "├──────────────────────────────────────┼────────────────┼─────────┤\n",
       "│ aa3eaf74-6d9c-4859-b733-5a18a3b2f71b │           1008 │       0 │\n",
       "│ 2d3d2dce-d353-4961-ad39-46723efe2100 │           2194 │       0 │\n",
       "│ 5f8fcbe0-6014-43f8-8b83-38cf2f4887b3 │          10767 │       0 │\n",
       "│ ca95ef2a-5129-40f4-acbc-2ced25940032 │            421 │       0 │\n",
       "│ 65662aff-44d6-4f06-b9d9-07445c6e5943 │            418 │       0 │\n",
       "│ 98b960e7-6b7b-45b7-b7af-60bca40e04b9 │              0 │       0 │\n",
       "│ b2f9d026-0727-4125-b84b-c60af3148a15 │           4012 │       0 │\n",
       "│ 6e1bc660-02eb-49ac-aee6-592328504897 │            682 │       0 │\n",
       "│ 95ef4c1e-b21a-468e-b419-ad08333c4948 │            171 │       0 │\n",
       "│ e7c79c1a-7693-4e63-a844-c755e0bc3bd3 │           2273 │       1 │\n",
       "├──────────────────────────────────────┴────────────────┴─────────┤\n",
       "│ 10 rows                                               3 columns │\n",
       "└─────────────────────────────────────────────────────────────────┘"
      ]
     },
     "execution_count": 12,
     "metadata": {},
     "output_type": "execute_result"
    }
   ],
   "source": [
    "duckdb.sql(\"SELECT * FROM customers LIMIT 10\")"
   ]
  },
  {
   "cell_type": "code",
   "execution_count": 13,
   "metadata": {},
   "outputs": [
    {
     "data": {
      "text/plain": [
       "┌─────────────────────────────────────┬──────────────────────────────────────┬─────────────────────┬───────────────────┐\n",
       "│            idTransaction            │              idCustomer              │    dtTransaction    │ pointsTransaction │\n",
       "│               varchar               │               varchar                │      timestamp      │       int64       │\n",
       "├─────────────────────────────────────┼──────────────────────────────────────┼─────────────────────┼───────────────────┤\n",
       "│ fb4e3102-6125-414e-b086-e7f641e38…  │ 5f8fcbe0-6014-43f8-8b83-38cf2f4887b3 │ 2024-01-27 11:53:23 │                 1 │\n",
       "│ 036b8d66-8adf-479b-ba0f-cb0e3207a…  │ 5f8fcbe0-6014-43f8-8b83-38cf2f4887b3 │ 2024-01-27 11:53:24 │                 1 │\n",
       "│ 10166182-a164-4608-8cdf-35e4450b2…  │ 5f8fcbe0-6014-43f8-8b83-38cf2f4887b3 │ 2024-01-27 12:11:44 │               500 │\n",
       "│ 03974c58-e86e-4b6b-8143-8f89ca870…  │ 5f8fcbe0-6014-43f8-8b83-38cf2f4887b3 │ 2024-01-27 12:19:41 │                 1 │\n",
       "│ e84703a6-b606-4096-a2f3-514971c16…  │ 5f8fcbe0-6014-43f8-8b83-38cf2f4887b3 │ 2024-01-27 12:31:46 │               500 │\n",
       "│ 5ada03e9-672f-4386-a27d-3827b62c8…  │ 5f8fcbe0-6014-43f8-8b83-38cf2f4887b3 │ 2024-01-27 12:31:47 │               500 │\n",
       "│ f291f238-b09d-4151-8bde-0f66b0cbb…  │ 5f8fcbe0-6014-43f8-8b83-38cf2f4887b3 │ 2024-01-27 13:03:41 │                 1 │\n",
       "│ 6501ca90-371f-43cb-8c57-463f6c4e5…  │ 5f8fcbe0-6014-43f8-8b83-38cf2f4887b3 │ 2024-01-27 13:11:47 │                 1 │\n",
       "│ 876473f8-7b23-4de4-9aeb-857067875…  │ 5f8fcbe0-6014-43f8-8b83-38cf2f4887b3 │ 2024-01-27 13:41:16 │                 1 │\n",
       "│ c4124d67-6366-4373-b8a0-1590ebf77…  │ 5f8fcbe0-6014-43f8-8b83-38cf2f4887b3 │ 2024-01-27 20:23:33 │                 1 │\n",
       "├─────────────────────────────────────┴──────────────────────────────────────┴─────────────────────┴───────────────────┤\n",
       "│ 10 rows                                                                                                    4 columns │\n",
       "└──────────────────────────────────────────────────────────────────────────────────────────────────────────────────────┘"
      ]
     },
     "execution_count": 13,
     "metadata": {},
     "output_type": "execute_result"
    }
   ],
   "source": [
    "duckdb.sql(\"SELECT * FROM transactions LIMIT 10\")"
   ]
  },
  {
   "cell_type": "code",
   "execution_count": 9,
   "metadata": {},
   "outputs": [
    {
     "data": {
      "text/plain": [
       "┌────────────────────────────┐\n",
       "│ count(DISTINCT idCustomer) │\n",
       "│           int64            │\n",
       "├────────────────────────────┤\n",
       "│                       1463 │\n",
       "└────────────────────────────┘"
      ]
     },
     "execution_count": 9,
     "metadata": {},
     "output_type": "execute_result"
    }
   ],
   "source": [
    "#Número de id`s distintos\n",
    "duckdb.sql(\"SELECT COUNT(DISTINCT(idCustomer)) FROM customers\")"
   ]
  },
  {
   "cell_type": "code",
   "execution_count": null,
   "metadata": {},
   "outputs": [],
   "source": []
  }
 ],
 "metadata": {
  "kernelspec": {
   "display_name": "duckdb",
   "language": "python",
   "name": "python3"
  },
  "language_info": {
   "codemirror_mode": {
    "name": "ipython",
    "version": 3
   },
   "file_extension": ".py",
   "mimetype": "text/x-python",
   "name": "python",
   "nbconvert_exporter": "python",
   "pygments_lexer": "ipython3",
   "version": "3.12.4"
  }
 },
 "nbformat": 4,
 "nbformat_minor": 2
}
