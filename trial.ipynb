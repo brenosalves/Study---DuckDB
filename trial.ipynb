{
 "cells": [
  {
   "cell_type": "code",
   "execution_count": null,
   "metadata": {},
   "outputs": [],
   "source": [
    "#Importando as bibliotecas\n",
    "import duckdb\n",
    "import pandas as pd"
   ]
  },
  {
   "cell_type": "code",
   "execution_count": null,
   "metadata": {},
   "outputs": [],
   "source": [
    "#Exemplo\n",
    "duckdb.sql(\"SELECT 42\").show()"
   ]
  },
  {
   "cell_type": "code",
   "execution_count": null,
   "metadata": {},
   "outputs": [],
   "source": [
    "#Exemplos - Input de dados\n",
    "\n",
    "data_csv = duckdb.read_csv(\"data/example.csv\")                # read a CSV file into a Relation\n",
    "#data_parquet =duckdb.read_parquet(\"data/example.parquet\")        # read a Parquet file into a Relation\n",
    "data_json = duckdb.read_json(\"data/example.json\")              # read a JSON file into a Relation\n",
    "\n",
    "duckdb.sql(\"SELECT * FROM data_csv\")     # directly query a CSV file\n",
    "#duckdb.sql(\"SELECT * FROM data_parquet\") # directly query a Parquet file\n",
    "duckdb.sql(\"SELECT * FROM data_json\")    # directly query a JSON file"
   ]
  },
  {
   "cell_type": "code",
   "execution_count": null,
   "metadata": {},
   "outputs": [],
   "source": []
  }
 ],
 "metadata": {
  "kernelspec": {
   "display_name": "duckdb",
   "language": "python",
   "name": "python3"
  },
  "language_info": {
   "codemirror_mode": {
    "name": "ipython",
    "version": 3
   },
   "file_extension": ".py",
   "mimetype": "text/x-python",
   "name": "python",
   "nbconvert_exporter": "python",
   "pygments_lexer": "ipython3",
   "version": "3.12.4"
  }
 },
 "nbformat": 4,
 "nbformat_minor": 2
}
